{
 "cells": [
  {
   "cell_type": "code",
   "execution_count": 1,
   "metadata": {},
   "outputs": [],
   "source": [
    "import json\n",
    "import matplotlib.pyplot as plt\n",
    "\n",
    "import os \n",
    "os.chdir(\"../../..\")\n",
    "\n",
    "from src.data_processing.data_loader import data_loader\n",
    "import src.models.model_utils as model_utils\n",
    "from src.results.main import evaluate\n",
    "import src.visualisation.main as vis_main"
   ]
  },
  {
   "cell_type": "code",
   "execution_count": 2,
   "metadata": {},
   "outputs": [],
   "source": [
    "with open(\"src/training/data_config.json\", \"r\") as f:\n",
    "    data_config = json.load(f)\n",
    "    f.close()\n",
    "\n",
    "with open(\"src/training/model_config.json\", \"r\") as f:\n",
    "    model_config = json.load(f)\n",
    "    f.close()\n",
    "\n",
    "with open(\"src/training/training_config.json\", \"r\") as f:\n",
    "    training_config = json.load(f)\n",
    "    f.close()"
   ]
  },
  {
   "cell_type": "code",
   "execution_count": 4,
   "metadata": {},
   "outputs": [
    {
     "data": {
      "text/plain": [
       "{'data_name': 'MIMIC',\n",
       " 'target_window': 24,\n",
       " 'feat_set': 'vit-sta',\n",
       " 'time_range': [0, 10],\n",
       " 'train_test_ratio': 0.6,\n",
       " 'train_val_ratio': 0.4,\n",
       " 'seed': 2323}"
      ]
     },
     "execution_count": 4,
     "metadata": {},
     "output_type": "execute_result"
    }
   ],
   "source": [
    "data_config"
   ]
  },
  {
   "cell_type": "code",
   "execution_count": 5,
   "metadata": {},
   "outputs": [
    {
     "name": "stdout",
     "output_type": "stream",
     "text": [
      "\n",
      "MIMIC data has been subsettted to the following features: \n",
      " ['DBP', 'ESI', 'HR', 'RR', 'SBP', 'SPO2', 'TEMP', 'age', 'gender'].\n"
     ]
    },
    {
     "name": "stderr",
     "output_type": "stream",
     "text": [
      "100%|██████████| 31533/31533 [00:38<00:00, 827.01it/s]\n"
     ]
    },
    {
     "name": "stdout",
     "output_type": "stream",
     "text": [
      "\n",
      "MIMIC data successfully loaded.\n",
      "\n",
      "Basic information \n",
      " Input shape: (31533, 10, 9), (1642, 3) \n",
      " Outcome Distribution: De+I     395\n",
      "W       1169\n",
      "Di        78\n",
      "dtype: int64\n"
     ]
    },
    {
     "ename": "ValueError",
     "evalue": "Found input variables with inconsistent numbers of samples: [31533, 1642, 31533, 31533]",
     "output_type": "error",
     "traceback": [
      "\u001b[0;31m---------------------------------------------------------------------------\u001b[0m",
      "\u001b[0;31mValueError\u001b[0m                                Traceback (most recent call last)",
      "\u001b[0;32m/tmp/ipykernel_1936/1193901185.py\u001b[0m in \u001b[0;36m<module>\u001b[0;34m\u001b[0m\n\u001b[0;32m----> 1\u001b[0;31m \u001b[0mdata_info\u001b[0m \u001b[0;34m=\u001b[0m \u001b[0mdata_loader\u001b[0m\u001b[0;34m(\u001b[0m\u001b[0;34m**\u001b[0m\u001b[0mdata_config\u001b[0m\u001b[0;34m)\u001b[0m\u001b[0;34m\u001b[0m\u001b[0;34m\u001b[0m\u001b[0m\n\u001b[0m",
      "\u001b[0;32m~/Projects/camelot-icml/src/data_processing/data_loader.py\u001b[0m in \u001b[0;36mdata_loader\u001b[0;34m(data_name, feat_set, time_range, target_window, train_test_ratio, train_val_ratio, seed)\u001b[0m\n\u001b[1;32m     44\u001b[0m     \u001b[0;31m# Separate into train, val and test data\u001b[0m\u001b[0;34m\u001b[0m\u001b[0;34m\u001b[0m\u001b[0;34m\u001b[0m\u001b[0m\n\u001b[1;32m     45\u001b[0m     X_train, X_test, y_train, y_test, id_train, id_test, mask_train, mask_test = train_test_split(\n\u001b[0;32m---> 46\u001b[0;31m         x, y, ids, mask, train_size=train_test_ratio, random_state=seed, shuffle=True, stratify=np.argmax(y, axis=-1))\n\u001b[0m\u001b[1;32m     47\u001b[0m \u001b[0;34m\u001b[0m\u001b[0m\n\u001b[1;32m     48\u001b[0m     X_train, X_val, y_train, y_val, id_train, id_val, mask_train, mask_val = train_test_split(\n",
      "\u001b[0;32m~/anaconda3/envs/camelot-icml/lib/python3.7/site-packages/sklearn/model_selection/_split.py\u001b[0m in \u001b[0;36mtrain_test_split\u001b[0;34m(test_size, train_size, random_state, shuffle, stratify, *arrays)\u001b[0m\n\u001b[1;32m   2415\u001b[0m         \u001b[0;32mraise\u001b[0m \u001b[0mValueError\u001b[0m\u001b[0;34m(\u001b[0m\u001b[0;34m\"At least one array required as input\"\u001b[0m\u001b[0;34m)\u001b[0m\u001b[0;34m\u001b[0m\u001b[0;34m\u001b[0m\u001b[0m\n\u001b[1;32m   2416\u001b[0m \u001b[0;34m\u001b[0m\u001b[0m\n\u001b[0;32m-> 2417\u001b[0;31m     \u001b[0marrays\u001b[0m \u001b[0;34m=\u001b[0m \u001b[0mindexable\u001b[0m\u001b[0;34m(\u001b[0m\u001b[0;34m*\u001b[0m\u001b[0marrays\u001b[0m\u001b[0;34m)\u001b[0m\u001b[0;34m\u001b[0m\u001b[0;34m\u001b[0m\u001b[0m\n\u001b[0m\u001b[1;32m   2418\u001b[0m \u001b[0;34m\u001b[0m\u001b[0m\n\u001b[1;32m   2419\u001b[0m     \u001b[0mn_samples\u001b[0m \u001b[0;34m=\u001b[0m \u001b[0m_num_samples\u001b[0m\u001b[0;34m(\u001b[0m\u001b[0marrays\u001b[0m\u001b[0;34m[\u001b[0m\u001b[0;36m0\u001b[0m\u001b[0;34m]\u001b[0m\u001b[0;34m)\u001b[0m\u001b[0;34m\u001b[0m\u001b[0;34m\u001b[0m\u001b[0m\n",
      "\u001b[0;32m~/anaconda3/envs/camelot-icml/lib/python3.7/site-packages/sklearn/utils/validation.py\u001b[0m in \u001b[0;36mindexable\u001b[0;34m(*iterables)\u001b[0m\n\u001b[1;32m    376\u001b[0m \u001b[0;34m\u001b[0m\u001b[0m\n\u001b[1;32m    377\u001b[0m     \u001b[0mresult\u001b[0m \u001b[0;34m=\u001b[0m \u001b[0;34m[\u001b[0m\u001b[0m_make_indexable\u001b[0m\u001b[0;34m(\u001b[0m\u001b[0mX\u001b[0m\u001b[0;34m)\u001b[0m \u001b[0;32mfor\u001b[0m \u001b[0mX\u001b[0m \u001b[0;32min\u001b[0m \u001b[0miterables\u001b[0m\u001b[0;34m]\u001b[0m\u001b[0;34m\u001b[0m\u001b[0;34m\u001b[0m\u001b[0m\n\u001b[0;32m--> 378\u001b[0;31m     \u001b[0mcheck_consistent_length\u001b[0m\u001b[0;34m(\u001b[0m\u001b[0;34m*\u001b[0m\u001b[0mresult\u001b[0m\u001b[0;34m)\u001b[0m\u001b[0;34m\u001b[0m\u001b[0;34m\u001b[0m\u001b[0m\n\u001b[0m\u001b[1;32m    379\u001b[0m     \u001b[0;32mreturn\u001b[0m \u001b[0mresult\u001b[0m\u001b[0;34m\u001b[0m\u001b[0;34m\u001b[0m\u001b[0m\n\u001b[1;32m    380\u001b[0m \u001b[0;34m\u001b[0m\u001b[0m\n",
      "\u001b[0;32m~/anaconda3/envs/camelot-icml/lib/python3.7/site-packages/sklearn/utils/validation.py\u001b[0m in \u001b[0;36mcheck_consistent_length\u001b[0;34m(*arrays)\u001b[0m\n\u001b[1;32m    332\u001b[0m         raise ValueError(\n\u001b[1;32m    333\u001b[0m             \u001b[0;34m\"Found input variables with inconsistent numbers of samples: %r\"\u001b[0m\u001b[0;34m\u001b[0m\u001b[0;34m\u001b[0m\u001b[0m\n\u001b[0;32m--> 334\u001b[0;31m             \u001b[0;34m%\u001b[0m \u001b[0;34m[\u001b[0m\u001b[0mint\u001b[0m\u001b[0;34m(\u001b[0m\u001b[0ml\u001b[0m\u001b[0;34m)\u001b[0m \u001b[0;32mfor\u001b[0m \u001b[0ml\u001b[0m \u001b[0;32min\u001b[0m \u001b[0mlengths\u001b[0m\u001b[0;34m]\u001b[0m\u001b[0;34m\u001b[0m\u001b[0;34m\u001b[0m\u001b[0m\n\u001b[0m\u001b[1;32m    335\u001b[0m         )\n\u001b[1;32m    336\u001b[0m \u001b[0;34m\u001b[0m\u001b[0m\n",
      "\u001b[0;31mValueError\u001b[0m: Found input variables with inconsistent numbers of samples: [31533, 1642, 31533, 31533]"
     ]
    }
   ],
   "source": [
    "data_info = data_loader(**data_config)\n"
   ]
  },
  {
   "cell_type": "code",
   "execution_count": null,
   "metadata": {},
   "outputs": [],
   "source": [
    "\n",
    "    \"Data Loading.\"\n",
    "    data_info = data_loader(**data_config)\n",
    "\n",
    "    \"Visualise Data Properties\"\n",
    "    vis_main.visualise_data_groups(data_info)\n",
    "\n",
    "    # -------------------------- Loading and Training Model -----------------------------\n",
    "\n",
    "    \"Load model and fit\"\n",
    "    print(\"\\n\\n\\n\\n\")\n",
    "    model = model_utils.get_model_from_str(data_info=data_info, model_config=model_config,\n",
    "                                           training_config=training_config)\n",
    "\n",
    "    # Train model\n",
    "    history = model.train(data_info=data_info, **training_config)\n",
    "\n",
    "    \"Compute results on test data\"\n",
    "    outputs_dic = model.analyse(data_info)\n",
    "    print(outputs_dic.keys())\n",
    "\n",
    "    # -------------------------------------- Evaluate Scores --------------------------------------\n",
    "\n",
    "    \"Evaluate scores on the resulting models. Note X_test is converted back to input dimensions.\"\n",
    "    scores = evaluate(**outputs_dic, data_info=data_info, avg=None)\n",
    "\n",
    "    # ------------------------ Results Visualisations --------------------------\n",
    "    \"Learnt Group averages\"\n",
    "\n",
    "    # Cluster Groups understanding where relevant\n",
    "    vis_main.visualise_cluster_groups(**outputs_dic, data_info=data_info)\n",
    "\n",
    "    # \"Losses where relevant\"\n",
    "    vis_main.plot_losses(history=history, **outputs_dic, data_info=data_info)\n",
    "\n",
    "    # \"Clus assignments where relevant\"\n",
    "    vis_main.visualise_cluster_assignment(**outputs_dic, data_info=data_info)\n",
    "\n",
    "    # \"Attention maps where relevant\"\n",
    "    vis_main.visualise_attention_maps(**outputs_dic, data_info=data_info)\n",
    "\n",
    "    # Load tensorboard if exists\n",
    "    vis_main.load_tensorboard(**outputs_dic, data_info=data_info)\n",
    "\n",
    "    # Show Figures\n",
    "    plt.show(block=False)\n",
    "\n",
    "    print(\"Analysis Complete.\")\n"
   ]
  }
 ],
 "metadata": {
  "interpreter": {
   "hash": "1566fa565dc0847649e1547a0ab37d13041c73024e63daec4534a79386f5651d"
  },
  "kernelspec": {
   "display_name": "Python 3.7.11 ('camelot-icml')",
   "language": "python",
   "name": "python3"
  },
  "language_info": {
   "codemirror_mode": {
    "name": "ipython",
    "version": 3
   },
   "file_extension": ".py",
   "mimetype": "text/x-python",
   "name": "python",
   "nbconvert_exporter": "python",
   "pygments_lexer": "ipython3",
   "version": "3.7.11"
  },
  "orig_nbformat": 4
 },
 "nbformat": 4,
 "nbformat_minor": 2
}
