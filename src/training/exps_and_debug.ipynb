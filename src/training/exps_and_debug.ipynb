{
 "cells": [
  {
   "cell_type": "code",
   "execution_count": 7,
   "metadata": {},
   "outputs": [
    {
     "name": "stderr",
     "output_type": "stream",
     "text": [
      "2022-12-19 13:34:45.617355: W tensorflow/stream_executor/platform/default/dso_loader.cc:64] Could not load dynamic library 'libcudart.so.11.0'; dlerror: libcudart.so.11.0: cannot open shared object file: No such file or directory\n",
      "2022-12-19 13:34:45.617398: I tensorflow/stream_executor/cuda/cudart_stub.cc:29] Ignore above cudart dlerror if you do not have a GPU set up on your machine.\n",
      "/home/hq-boss31/anaconda3/envs/tf_dl/lib/python3.9/site-packages/xgboost/compat.py:36: FutureWarning: pandas.Int64Index is deprecated and will be removed from pandas in a future version. Use pandas.Index with the appropriate dtype instead.\n",
      "  from pandas import MultiIndex, Int64Index\n"
     ]
    }
   ],
   "source": [
    "import os \n",
    "import sys\n",
    "from importlib import reload\n",
    "import json\n",
    "import matplotlib.pyplot as plt\n",
    "sys.path.append(\"../data_processing\")\n",
    "sys.path.append(\"../models/\")\n",
    "sys.path.append(\"../results\")\n",
    "sys.path.append(\"../visualisation\")\n",
    "sys.path.append(\"../\")\n",
    "sys.path.append(\"../..\")\n",
    "\n",
    "from data_loader import data_loader\n",
    "import model_utils as model_utils\n",
    "from main import evaluate\n",
    "import main as vis_main"
   ]
  },
  {
   "cell_type": "code",
   "execution_count": 8,
   "metadata": {},
   "outputs": [],
   "source": [
    "os.chdir(\"../..\")"
   ]
  },
  {
   "cell_type": "code",
   "execution_count": 9,
   "metadata": {},
   "outputs": [],
   "source": [
    "with open(\"src/training/data_config.json\", \"r\") as f:\n",
    "    data_config = json.load(f)\n",
    "    f.close()\n"
   ]
  },
  {
   "cell_type": "code",
   "execution_count": 10,
   "metadata": {},
   "outputs": [],
   "source": [
    "with open(\"src/training/model_config.json\", \"r\") as f:\n",
    "    model_config = json.load(f)\n",
    "    f.close()\n",
    "\n",
    "with open(\"src/training/training_config.json\", \"r\") as f:\n",
    "    training_config = json.load(f)\n",
    "    f.close()\n"
   ]
  },
  {
   "cell_type": "code",
   "execution_count": 13,
   "metadata": {},
   "outputs": [
    {
     "name": "stdout",
     "output_type": "stream",
     "text": [
      "\n",
      "MIMIC data has been subsettted to the following features: \n",
      " ['DBP', 'ESI', 'HR', 'RR', 'SBP', 'SPO2', 'TEMP', 'age', 'gender'].\n"
     ]
    },
    {
     "name": "stderr",
     "output_type": "stream",
     "text": [
      "100%|██████████| 6642/6642 [00:26<00:00, 248.50it/s]\n"
     ]
    },
    {
     "name": "stdout",
     "output_type": "stream",
     "text": [
      "\n",
      "MIMIC data successfully loaded.\n",
      "\n",
      "Basic information \n",
      " Input shape: (6642, 10, 9), (6642, 4) \n",
      " Outcome Distribution: De      21\n",
      "I     1097\n",
      "W     5385\n",
      "Di     139\n",
      "dtype: int64\n"
     ]
    }
   ],
   "source": [
    "data_info = data_loader(**data_config)"
   ]
  },
  {
   "cell_type": "code",
   "execution_count": 24,
   "metadata": {},
   "outputs": [],
   "source": [
    "import numpy as np\n",
    "X_train = np.concatenate((data_info[\"X\"][0], data_info[\"X\"][1]), axis=0)\n",
    "X_test = np.concatenate(data_info[\"X\"][2])"
   ]
  },
  {
   "cell_type": "code",
   "execution_count": 28,
   "metadata": {},
   "outputs": [],
   "source": [
    "from sklearn.cluster import KMeans as KM\n",
    "\n",
    "clus_train = np.zeros(shape=(X_train.shape[0], X_train.shape[1]))\n",
    "clus_test = np.zeros(shape=(X_test.shape[0], X_test.shape[1]))\n",
    "\n",
    "for t in range(10):\n",
    "\n",
    "    km_t = KM(n_clusters=10, verbose=1)\n",
    "    clus_train[:, t] = km_t.fit_predict(X_train[:, t, :])\n",
    "\n",
    "\n"
   ]
  },
  {
   "cell_type": "code",
   "execution_count": 27,
   "metadata": {},
   "outputs": [
    {
     "data": {
      "text/plain": [
       "(26570, 9)"
      ]
     },
     "execution_count": 27,
     "metadata": {},
     "output_type": "execute_result"
    }
   ],
   "source": [
    "X_test.shape"
   ]
  },
  {
   "cell_type": "code",
   "execution_count": null,
   "metadata": {},
   "outputs": [],
   "source": []
  }
 ],
 "metadata": {
  "kernelspec": {
   "display_name": "Python 3.9.7 ('tf_dl')",
   "language": "python",
   "name": "python3"
  },
  "language_info": {
   "codemirror_mode": {
    "name": "ipython",
    "version": 3
   },
   "file_extension": ".py",
   "mimetype": "text/x-python",
   "name": "python",
   "nbconvert_exporter": "python",
   "pygments_lexer": "ipython3",
   "version": "3.9.7"
  },
  "orig_nbformat": 4,
  "vscode": {
   "interpreter": {
    "hash": "4213b6729d5c3b89ba4c809c39af1e4613924c048c5c4a79d23d035a32c6c4a8"
   }
  }
 },
 "nbformat": 4,
 "nbformat_minor": 2
}
